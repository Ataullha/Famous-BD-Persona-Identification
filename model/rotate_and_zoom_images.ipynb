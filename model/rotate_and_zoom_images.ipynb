{
 "cells": [
  {
   "cell_type": "code",
   "execution_count": 97,
   "id": "1bd971e3",
   "metadata": {},
   "outputs": [],
   "source": [
    "'''\n",
    "Ataullha\n",
    "'''\n",
    "\n",
    "import os"
   ]
  },
  {
   "cell_type": "code",
   "execution_count": 98,
   "id": "56f3a1bc",
   "metadata": {
    "scrolled": true
   },
   "outputs": [
    {
     "name": "stdout",
     "output_type": "stream",
     "text": [
      " Volume in drive C has no label.\n",
      " Volume Serial Number is A0E8-ECE8\n",
      "\n",
      " Directory of C:\\Users\\saims\\OneDrive\\Documents\\GitHub\\Famous-BD-Persona-Identification\\model\n",
      "\n",
      "12/26/2022  04:18 PM    <DIR>          .\n",
      "12/26/2022  04:18 PM    <DIR>          ..\n",
      "12/26/2022  03:46 PM    <DIR>          .ipynb_checkpoints\n",
      "12/26/2022  11:39 AM               129 class_dictionary.json\n",
      "12/26/2022  01:07 PM    <DIR>          collected_dataset\n",
      "12/26/2022  04:19 PM    <DIR>          dataset\n",
      "12/26/2022  11:43 AM         2,097,208 famous_bangladeshi_persona_identification_model.ipynb\n",
      "12/25/2022  06:58 PM    <DIR>          opencv\n",
      "12/25/2022  02:49 PM                32 requirements.txt\n",
      "12/26/2022  04:18 PM             5,051 rotate_and_zoom_images.ipynb\n",
      "12/26/2022  11:39 AM         3,088,413 saved_model.pkl\n",
      "12/25/2022  06:58 PM    <DIR>          test_images\n",
      "               5 File(s)      5,190,833 bytes\n",
      "               7 Dir(s)  66,351,378,432 bytes free\n"
     ]
    }
   ],
   "source": [
    "ls"
   ]
  },
  {
   "cell_type": "code",
   "execution_count": 99,
   "id": "5ca4f18e",
   "metadata": {},
   "outputs": [],
   "source": [
    "path_to_data = '.\\\\collected_dataset\\\\'\n",
    "\n",
    "img_dirs = []\n",
    "for entry in os.scandir(path_to_data):\n",
    "    if entry.is_dir():\n",
    "        img_dirs.append(entry.path)"
   ]
  },
  {
   "cell_type": "code",
   "execution_count": 100,
   "id": "33983f40",
   "metadata": {},
   "outputs": [],
   "source": [
    "if img_dirs.count('.\\\\collected_dataset\\\\cropped'): \n",
    "    img_dirs.remove('.\\\\collected_dataset\\\\cropped')"
   ]
  },
  {
   "cell_type": "code",
   "execution_count": 101,
   "id": "2b6fa7d4",
   "metadata": {},
   "outputs": [
    {
     "data": {
      "text/plain": [
       "['.\\\\collected_dataset\\\\Bangabandhu Sheikh Mujibur Rahman',\n",
       " '.\\\\collected_dataset\\\\Humayun Ahmed',\n",
       " '.\\\\collected_dataset\\\\Muhammad Zafar Iqbal',\n",
       " '.\\\\collected_dataset\\\\Shakib Al Hasan',\n",
       " '.\\\\collected_dataset\\\\Sheikh Hasina']"
      ]
     },
     "execution_count": 101,
     "metadata": {},
     "output_type": "execute_result"
    }
   ],
   "source": [
    "img_dirs"
   ]
  },
  {
   "cell_type": "code",
   "execution_count": 102,
   "id": "1d728e40",
   "metadata": {},
   "outputs": [],
   "source": [
    "import os\n",
    "import cv2\n",
    "\n",
    "def rotate_and_zoom(image, angle, scale):\n",
    "\n",
    "    img = cv2.imread(image)\n",
    "    if img is not None:\n",
    "#         cv2.imwrite(image,img)\n",
    "        (rows, cols) = img.shape[:2]\n",
    "        center = (cols / 2, rows / 2)\n",
    "        rot_matrix = cv2.getRotationMatrix2D(center, angle, scale)\n",
    "        result = cv2.warpAffine(img, rot_matrix, (cols, rows))\n",
    "        return result\n",
    "\n",
    "# Set the rotation angle and zoom scale\n",
    "angle = [-12,0,12,30]\n",
    "scale = [0.75,1,1.5,1.75]"
   ]
  },
  {
   "cell_type": "code",
   "execution_count": 103,
   "id": "73154d1d",
   "metadata": {
    "scrolled": false
   },
   "outputs": [],
   "source": [
    "for i in range(len(angle)):\n",
    "    for j in range(len(scale)):\n",
    "        for img_dir in img_dirs:\n",
    "            for filename in os.listdir(img_dir):\n",
    "                path = img_dir+'\\\\'+filename\n",
    "                # Check if the file is an image\n",
    "                if ((path.endswith('.jpg') or path.endswith('.png'))):\n",
    "                    image = rotate_and_zoom(path,angle[i], scale[j])\n",
    "                    if image is not None:\n",
    "                        s = path.split('.')\n",
    "#                       print(('.'+s[1].replace('collected_dataset','dataset')+'_rotated_'+str(i)+'_zoom_'+str(j)+'.'+s[-1]))\n",
    "                        cv2.imwrite(('.'+s[1].replace('collected_dataset','dataset')+'_rotated_'+str(i)+'_zoom_'+str(j)+'.'+s[-1]), image)"
   ]
  },
  {
   "cell_type": "code",
   "execution_count": null,
   "id": "80dd72e9",
   "metadata": {},
   "outputs": [],
   "source": []
  }
 ],
 "metadata": {
  "kernelspec": {
   "display_name": "Python 3 (ipykernel)",
   "language": "python",
   "name": "python3"
  },
  "language_info": {
   "codemirror_mode": {
    "name": "ipython",
    "version": 3
   },
   "file_extension": ".py",
   "mimetype": "text/x-python",
   "name": "python",
   "nbconvert_exporter": "python",
   "pygments_lexer": "ipython3",
   "version": "3.9.13"
  }
 },
 "nbformat": 4,
 "nbformat_minor": 5
}
